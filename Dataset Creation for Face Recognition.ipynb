{
 "cells": [
  {
   "cell_type": "code",
   "execution_count": 2,
   "id": "ebf608c1",
   "metadata": {},
   "outputs": [
    {
     "name": "stdout",
     "output_type": "stream",
     "text": [
      "Defaulting to user installation because normal site-packages is not writeable\n",
      "Requirement already satisfied: pip in c:\\users\\hk821\\appdata\\roaming\\python\\python39\\site-packages (23.0.1)\n",
      "Note: you may need to restart the kernel to use updated packages.\n"
     ]
    }
   ],
   "source": [
    "pip install --upgrade pip"
   ]
  },
  {
   "cell_type": "code",
   "execution_count": 3,
   "id": "1d6e9904",
   "metadata": {},
   "outputs": [
    {
     "name": "stdout",
     "output_type": "stream",
     "text": [
      "Defaulting to user installation because normal site-packages is not writeable\n",
      "Requirement already satisfied: opencv-python in c:\\users\\hk821\\appdata\\roaming\\python\\python39\\site-packages (4.7.0.72)\n",
      "Requirement already satisfied: numpy>=1.19.3 in c:\\users\\hk821\\appdata\\roaming\\python\\python39\\site-packages (from opencv-python) (1.24.2)\n",
      "Note: you may need to restart the kernel to use updated packages.\n"
     ]
    }
   ],
   "source": [
    "pip install opencv-python"
   ]
  },
  {
   "cell_type": "code",
   "execution_count": 3,
   "id": "cb73fe33",
   "metadata": {},
   "outputs": [],
   "source": [
    "import cv2\n",
    "import numpy as np"
   ]
  },
  {
   "cell_type": "markdown",
   "id": "b9652990",
   "metadata": {},
   "source": [
    "## Load the XML File"
   ]
  },
  {
   "cell_type": "code",
   "execution_count": 4,
   "id": "762943e2",
   "metadata": {},
   "outputs": [],
   "source": [
    "## \"XML\" file contains pre - trained model that was created through extensive training\n",
    "## Purpose: XML file is used to detect the specified object\n",
    "face_classifier = cv2.CascadeClassifier('haarcascade_frontalface_default.xml')"
   ]
  },
  {
   "cell_type": "code",
   "execution_count": 5,
   "id": "7e3f77b3",
   "metadata": {},
   "outputs": [],
   "source": [
    "def face_extractor(img):\n",
    "    ## first argument : image\n",
    "    ## second argument : scalefactor (how much image size will be reduced at each image scale)\n",
    "    ## third arguement : how many neighnours each rectanlge should have\n",
    "    faces = face_classifier.detectMultiScale(img, 1.3, 5)\n",
    "    if faces ==():\n",
    "        return None\n",
    "    \n",
    "    ##Crop all the faces found\n",
    "    for (x,y,w,h)in faces:\n",
    "        x=x-10;\n",
    "        y=y-10;\n",
    "        \n",
    "        cropped_face = img[y:y+h+50, x:x+w+50]\n",
    "    \n",
    "    return cropped_face"
   ]
  },
  {
   "cell_type": "code",
   "execution_count": null,
   "id": "c029c56c",
   "metadata": {},
   "outputs": [
    {
     "name": "stdout",
     "output_type": "stream",
     "text": [
      "Face not found\n",
      "Face not found\n",
      "Face not found\n",
      "Face not found\n",
      "Face not found\n",
      "Face not found\n",
      "Face not found\n"
     ]
    },
    {
     "name": "stderr",
     "output_type": "stream",
     "text": [
      "C:\\Users\\hk821\\AppData\\Local\\Temp\\ipykernel_24500\\48057644.py:6: DeprecationWarning: elementwise comparison failed; this will raise an error in the future.\n",
      "  if faces ==():\n"
     ]
    },
    {
     "name": "stdout",
     "output_type": "stream",
     "text": [
      "Face not found\n",
      "Face not found\n",
      "Face not found\n",
      "Face not found\n",
      "Face not found\n",
      "Face not found\n",
      "Face not found\n",
      "Face not found\n",
      "Face not found\n",
      "Face not found\n",
      "Face not found\n",
      "Face not found\n",
      "Face not found\n"
     ]
    }
   ],
   "source": [
    "## Initialize webcam\n",
    "cap = cv2.VideoCapture(0)\n",
    "count = 0\n",
    "\n",
    "## Collect 100 samples of my face from the webcam input\n",
    "while True:\n",
    "    ret, frame = cap.read()\n",
    "    ## Method calling\n",
    "    if face_extractor(frame) is not None:\n",
    "        count += 1\n",
    "        face = cv2.resize(face_extractor(frame), (400, 400))\n",
    "        \n",
    "        ## Save file in the specified directory\n",
    "        file_name_path = './Harsh/' + str(count) + '.jpg'\n",
    "        cv2.imwrite(file_name_path, face)\n",
    "        \n",
    "        \n",
    "        ## put count on images and display me the live count\n",
    "        cv2.putText(face, str(count), (50,50), cv2.FONT_HERSHEY_COMPLEX, 1, (0, 255, 0), 2)\n",
    "        cv2.imshow('Face Cropper', face)\n",
    "    else:\n",
    "        print(\"Face not found\")\n",
    "        pass\n",
    "    \n",
    "    if cv2.waitKey(1) == 13 or count == 500:\n",
    "        break\n",
    "\n",
    "        \n",
    "cap.release()\n",
    "cv2.destroyAllWindows()\n",
    "\n",
    "print(\"Dataset Creation task is successfully done\")"
   ]
  },
  {
   "cell_type": "code",
   "execution_count": null,
   "id": "3a52c8d4",
   "metadata": {},
   "outputs": [],
   "source": []
  },
  {
   "cell_type": "code",
   "execution_count": null,
   "id": "96148dcc",
   "metadata": {},
   "outputs": [],
   "source": []
  },
  {
   "cell_type": "code",
   "execution_count": null,
   "id": "061b8575",
   "metadata": {},
   "outputs": [],
   "source": []
  },
  {
   "cell_type": "code",
   "execution_count": null,
   "id": "e75f88f0",
   "metadata": {},
   "outputs": [],
   "source": []
  },
  {
   "cell_type": "code",
   "execution_count": null,
   "id": "e9f04069",
   "metadata": {},
   "outputs": [],
   "source": []
  }
 ],
 "metadata": {
  "kernelspec": {
   "display_name": "Python 3 (ipykernel)",
   "language": "python",
   "name": "python3"
  },
  "language_info": {
   "codemirror_mode": {
    "name": "ipython",
    "version": 3
   },
   "file_extension": ".py",
   "mimetype": "text/x-python",
   "name": "python",
   "nbconvert_exporter": "python",
   "pygments_lexer": "ipython3",
   "version": "3.9.13"
  }
 },
 "nbformat": 4,
 "nbformat_minor": 5
}
